{
 "cells": [
  {
   "cell_type": "code",
   "execution_count": null,
   "id": "initial_id",
   "metadata": {
    "collapsed": true
   },
   "outputs": [],
   "source": [
    "# p-уровень значимости - вероятность получить результат не менее экстремальный, чем наблюдаемый, при условии, что нулевая гипотеза H0 верна. Он используется в статистических тестах, чтобы определить, можно ли отвергнуть H0\n",
    "\n",
    "# p-value показывает, насколько вероятность полученного результата связана с предположением, что нулевая гипотеза истинна."
   ]
  },
  {
   "metadata": {
    "ExecuteTime": {
     "end_time": "2025-01-25T10:32:18.487613Z",
     "start_time": "2025-01-25T10:32:18.484063Z"
    }
   },
   "cell_type": "code",
   "source": [
    "import numpy as np\n",
    "\n",
    "# Данные выборки\n",
    "data = np.array([172, 168, 171, 169, 173])\n",
    "mu_0 = 170  # Гипотетическое среднее\n",
    "alpha = 0.05  # Уровень значимости =>\n",
    "z_critical = 1.96\n",
    "\n",
    "# Шаг 1: Расчет выборочного среднего, стандартного отклонения и стандартной ошибки\n",
    "mu = data.mean()\n",
    "std = data.std()\n",
    "SE = data.std() / np.sqrt(len(data))\n",
    "\n",
    "# Шаг 2: Расчет Z-статистики\n",
    "Z = (mu - mu_0) / SE\n",
    "\n",
    "# Шаг 3: Принятие решения\n",
    "if abs(Z) > z_critical:\n",
    "    print(\"Отклоняем гипотезу H0: среднее не равно 170\")\n",
    "else:\n",
    "    print(\"Не отклоняем гипотезу H0: среднее равно 170\")"
   ],
   "id": "98489342c619e2e3",
   "outputs": [
    {
     "name": "stdout",
     "output_type": "stream",
     "text": [
      "Не отклоняем гипотезу H0: среднее равно 170\n"
     ]
    }
   ],
   "execution_count": 15
  }
 ],
 "metadata": {
  "kernelspec": {
   "display_name": "Python 3",
   "language": "python",
   "name": "python3"
  },
  "language_info": {
   "codemirror_mode": {
    "name": "ipython",
    "version": 2
   },
   "file_extension": ".py",
   "mimetype": "text/x-python",
   "name": "python",
   "nbconvert_exporter": "python",
   "pygments_lexer": "ipython2",
   "version": "2.7.6"
  }
 },
 "nbformat": 4,
 "nbformat_minor": 5
}
