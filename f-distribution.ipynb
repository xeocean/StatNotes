{
 "cells": [
  {
   "cell_type": "code",
   "execution_count": null,
   "id": "initial_id",
   "metadata": {
    "collapsed": true
   },
   "outputs": [],
   "source": [
    "# Однофакторный дисперсионный анализ (ANOVA) — это статистический метод, который используется для проверки гипотезы о равенстве средних значений в нескольких группах.\n",
    "\n",
    "# В однофакторном дисперсионном анализе (ANOVA) существуют три основных компонента вариации: SST, SSB и SSW\n",
    "\n",
    "# SST (общая дисперсия) показывает, сколько всего вариации имеется в данных.\n",
    "# Степень свободы df = n - 1\n",
    "\n",
    "# SSB (дисперсия между группами) показывает, какая часть вариации объясняется различиями между группами.\n",
    "# Степень свободы df = k - 1\n",
    "\n",
    "# SSW (дисперсия внутри групп) показывает, какая часть вариации объясняется различиями внутри групп.\n",
    "# Степень свободы df = n - k\n",
    "\n",
    "# SST = SSB + SSW"
   ]
  },
  {
   "metadata": {
    "ExecuteTime": {
     "end_time": "2025-01-25T14:11:30.690871Z",
     "start_time": "2025-01-25T14:11:30.611962Z"
    }
   },
   "cell_type": "code",
   "source": [
    "from matplotlib import pyplot as plt\n",
    "import scipy.stats as st\n",
    "\n",
    "group1 = [1, 2, 3]\n",
    "group2 = [1, 2, 4]\n",
    "group3 = [1, 2, 5]\n",
    "\n",
    "# Выполняем однофакторный дисперсионный анализ\n",
    "f_stat, p_value = st.f_oneway(group1, group2, group3)\n",
    "\n",
    "print(f\"F-статистика: {f_stat:.4f}\")\n",
    "print(f\"P-значение: {p_value:0.4f}\")\n",
    "\n",
    "# Проверка гипотезы\n",
    "alpha = 0.05\n",
    "if p_value < alpha:\n",
    "    print(\"Отвергаем нулевую гипотезу: есть значимые различия между группами.\")\n",
    "else:\n",
    "    print(\"Не отвергаем нулевую гипотезу: различий между группами нет.\")\n",
    "    \n",
    "plt.boxplot([group1, group2, group3])\n",
    "plt.show()"
   ],
   "id": "de871337ea7b057b",
   "outputs": [
    {
     "name": "stdout",
     "output_type": "stream",
     "text": [
      "F-статистика: 0.1304\n",
      "P-значение: 0.8801\n",
      "Не отвергаем нулевую гипотезу: различий между группами нет.\n"
     ]
    },
    {
     "data": {
      "text/plain": [
       "<Figure size 640x480 with 1 Axes>"
      ],
      "image/png": "[encoded data removed]"
     },
     "metadata": {},
     "output_type": "display_data"
    }
   ],
   "execution_count": 16
  }
 ],
 "metadata": {
  "kernelspec": {
   "display_name": "Python 3",
   "language": "python",
   "name": "python3"
  },
  "language_info": {
   "codemirror_mode": {
    "name": "ipython",
    "version": 2
   },
   "file_extension": ".py",
   "mimetype": "text/x-python",
   "name": "python",
   "nbconvert_exporter": "python",
   "pygments_lexer": "ipython2",
   "version": "2.7.6"
  }
 },
 "nbformat": 4,
 "nbformat_minor": 5
}
