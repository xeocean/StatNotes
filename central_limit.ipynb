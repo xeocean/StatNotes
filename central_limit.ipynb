{
 "cells": [
  {
   "cell_type": "code",
   "id": "initial_id",
   "metadata": {
    "collapsed": true,
    "ExecuteTime": {
     "end_time": "2025-01-23T18:59:24.222285Z",
     "start_time": "2025-01-23T18:59:23.644309Z"
    }
   },
   "source": [
    "import numpy as np\n",
    "import matplotlib.pyplot as plt"
   ],
   "outputs": [],
   "execution_count": 1
  },
  {
   "metadata": {
    "ExecuteTime": {
     "end_time": "2025-01-23T19:30:23.010355Z",
     "start_time": "2025-01-23T19:30:23.005021Z"
    }
   },
   "cell_type": "code",
   "source": [
    "# Центральная предельная теорема (ЦПТ) — сумма (или среднее) большого числа независимых случайных величин с **любым** распределением будет приближаться к нормальному распределению, независимо от того, какое распределение имеют сами величины\n",
    "\n",
    "# Стандартная ошибка (SE) - показывает, насколько точно выборочное среднее (или другая статистика) оценивает истинное значение в генеральной совокупности.\n",
    "# SE = стандартное отклонение выборки / корень из размера выборки\n",
    "\n",
    "mu = 0      # Среднее\n",
    "sigma = 1   # Стандартное отклонение\n",
    "size = 1000  # Размер выборки\n",
    "\n",
    "# Генерация случайных данных с нормальным распределением\n",
    "data = np.random.normal(mu, sigma, size)\n",
    "\n",
    "# Рассчитываем стандартную ошибку для выборки\n",
    "standard_error = np.std(data) / np.sqrt(len(data))\n",
    "\n",
    "print(f\"Стандартная ошибка: {standard_error:.3f}\")\n",
    "print(f\"Среднее из выборки будет в среднем отклоняться от истинного среднего на: {standard_error:.3f} единиц\")"
   ],
   "id": "7a4c3d616dcf19d3",
   "outputs": [
    {
     "name": "stdout",
     "output_type": "stream",
     "text": [
      "Стандартная ошибка: 0.033\n",
      "Среднее из выборки будет в среднем отклоняться от истинного среднего на: 0.033 единиц\n"
     ]
    }
   ],
   "execution_count": 12
  },
  {
   "metadata": {
    "ExecuteTime": {
     "end_time": "2025-01-25T09:34:26.591873Z",
     "start_time": "2025-01-25T09:34:26.529464Z"
    }
   },
   "cell_type": "code",
   "source": [
    "# Доверительный интервал — интервал, в котором с заданной вероятностью (уровнем доверия) находится истинное (среднее) значение оцениваемого параметра\n",
    "\n",
    "# Границы интервала:\n",
    "\n",
    "# Коэффициенты k для разных уровней доверия:\n",
    "# 95%: k = 1.96\n",
    "# 99%: k = 2.58\n",
    "\n",
    "# CI = mu +- k * SE"
   ],
   "id": "4d9afddc28aff992",
   "outputs": [],
   "execution_count": 1
  }
 ],
 "metadata": {
  "kernelspec": {
   "display_name": "Python 3",
   "language": "python",
   "name": "python3"
  },
  "language_info": {
   "codemirror_mode": {
    "name": "ipython",
    "version": 2
   },
   "file_extension": ".py",
   "mimetype": "text/x-python",
   "name": "python",
   "nbconvert_exporter": "python",
   "pygments_lexer": "ipython2",
   "version": "2.7.6"
  }
 },
 "nbformat": 4,
 "nbformat_minor": 5
}
