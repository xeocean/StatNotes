{
 "cells": [
  {
   "cell_type": "code",
   "id": "initial_id",
   "metadata": {
    "collapsed": true,
    "ExecuteTime": {
     "end_time": "2025-01-23T17:56:25.224738Z",
     "start_time": "2025-01-23T17:56:24.672250Z"
    }
   },
   "source": [
    "import numpy as np\n",
    "import matplotlib.pyplot as plt"
   ],
   "outputs": [],
   "execution_count": 9
  },
  {
   "metadata": {
    "ExecuteTime": {
     "end_time": "2025-01-23T18:07:12.939536Z",
     "start_time": "2025-01-23T18:07:12.933821Z"
    }
   },
   "cell_type": "code",
   "source": [
    "## Квартили распределения\n",
    "\n",
    "example = np.arange(21)\n",
    "\n",
    "# 0 1 2 3 4 5 6 7 8 9 10 11 12 13 14 15 16 17 18 19 20\n",
    "# ----------------------------------------------------\n",
    "#          25%        50%            75%\n",
    "\n",
    "Q1 = np.percentile(example, 25)  # 25-й процентиль (Первый квартиль)\n",
    "Q2 = np.percentile(example, 50)  # 50-й процентиль (Медиана)\n",
    "Q3 = np.percentile(example, 75)  # 75-й процентиль (Третий квартиль)\n",
    "\n",
    "# Межквартильный размах (IQR) - показывает размах между первым и третьим квартилями, что позволяет оценить степень разброса данных:\n",
    "IQR = Q3 - Q1\n",
    "\n",
    "print(\"Первый квартиль (Q1):\", Q1)\n",
    "print(\"Медиана (Q2):\", Q2)\n",
    "print(\"Третий квартиль (Q3):\", Q3)\n",
    "print(\"Межквартильный размах (IQR):\", IQR)"
   ],
   "id": "d70c91ebdb61d175",
   "outputs": [
    {
     "name": "stdout",
     "output_type": "stream",
     "text": [
      "Первый квартиль (Q1): 5.0\n",
      "Медиана (Q2): 10.0\n",
      "Третий квартиль (Q3): 15.0\n",
      "Межквартильный размах (IQR): 10.0\n"
     ]
    }
   ],
   "execution_count": 19
  },
  {
   "metadata": {
    "ExecuteTime": {
     "end_time": "2025-01-23T18:28:35.543744Z",
     "start_time": "2025-01-23T18:28:35.537699Z"
    }
   },
   "cell_type": "code",
   "source": [
    "data = np.array([1, 3, 5, 7, 9, 11, 13, 15, 17, 19, 34])\n",
    "\n",
    "Q1 = np.percentile(example, 25)  # 25-й процентиль (Первый квартиль)\n",
    "Q2 = np.percentile(example, 50)  # 50-й процентиль (Медиана)\n",
    "Q3 = np.percentile(example, 75)  # 75-й процентиль (Третий квартиль)\n",
    "\n",
    "IQR = Q3 - Q1\n",
    "print(\"Межквартильный размах (IQR):\", IQR)\n",
    "print(\"Первый квартиль (Q1):\", Q1)\n",
    "print(\"Медиана (Q2):\", Q2)\n",
    "print(\"Третий квартиль (Q3):\", Q3)\n",
    "print(\"Межквартильный размах (IQR):\", IQR)\n",
    "\n",
    "# Выбросы - Значение за пределами Q1 | Q3 \n",
    "lower_bound = Q1 - 1.5 * IQR\n",
    "upper_bound = Q3 + 1.5 * IQR\n",
    "\n",
    "outliers = data[(data < lower_bound) | (data > upper_bound)]\n",
    "\n",
    "print(\"Нижняя граница:\", lower_bound)\n",
    "print(\"Верхняя граница:\", upper_bound)\n",
    "print(\"Выбросы:\", outliers)"
   ],
   "id": "7bd177fea7f1ab25",
   "outputs": [
    {
     "name": "stdout",
     "output_type": "stream",
     "text": [
      "Межквартильный размах (IQR): 10.0\n",
      "Первый квартиль (Q1): 5.0\n",
      "Медиана (Q2): 10.0\n",
      "Третий квартиль (Q3): 15.0\n",
      "Межквартильный размах (IQR): 10.0\n",
      "Нижняя граница: -10.0\n",
      "Верхняя граница: 30.0\n",
      "Выбросы: [34]\n"
     ]
    }
   ],
   "execution_count": 61
  },
  {
   "metadata": {
    "ExecuteTime": {
     "end_time": "2025-01-23T18:28:57.897937Z",
     "start_time": "2025-01-23T18:28:57.821193Z"
    }
   },
   "cell_type": "code",
   "source": [
    "plt.figure(figsize=(10, 8))\n",
    "plt.boxplot(data)\n",
    "plt.text(1.2, Q1, f'Q1 = {Q1}', horizontalalignment='center', color='blue')\n",
    "plt.text(1.2, Q2, f'Q2 = {Q2}', horizontalalignment='center', color='green')\n",
    "plt.text(1.2, Q3, f'Q3 = {Q3}', horizontalalignment='center', color='red')"
   ],
   "id": "50dc00ea7ee9951b",
   "outputs": [
    {
     "data": {
      "text/plain": [
       "Text(1.2, 15.0, 'Q3 = 15.0')"
      ]
     },
     "execution_count": 63,
     "metadata": {},
     "output_type": "execute_result"
    },
    {
     "data": {
      "text/plain": [
       "<Figure size 1000x800 with 1 Axes>"
      ],
      "image/png": "[encoded data removed]"
     },
     "metadata": {},
     "output_type": "display_data"
    }
   ],
   "execution_count": 63
  }
 ],
 "metadata": {
  "kernelspec": {
   "display_name": "Python 3",
   "language": "python",
   "name": "python3"
  },
  "language_info": {
   "codemirror_mode": {
    "name": "ipython",
    "version": 2
   },
   "file_extension": ".py",
   "mimetype": "text/x-python",
   "name": "python",
   "nbconvert_exporter": "python",
   "pygments_lexer": "ipython2",
   "version": "2.7.6"
  }
 },
 "nbformat": 4,
 "nbformat_minor": 5
}
