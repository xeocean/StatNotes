{
 "cells": [
  {
   "metadata": {
    "ExecuteTime": {
     "end_time": "2025-01-23T17:02:31.298314Z",
     "start_time": "2025-01-23T17:02:28.765344Z"
    }
   },
   "cell_type": "code",
   "source": [
    "import numpy as np\n",
    "import pandas as pd"
   ],
   "id": "57c44c82a0b45dc3",
   "outputs": [],
   "execution_count": 1
  },
  {
   "metadata": {
    "ExecuteTime": {
     "end_time": "2025-01-23T17:02:31.308819Z",
     "start_time": "2025-01-23T17:02:31.300370Z"
    }
   },
   "cell_type": "code",
   "source": [
    "data = pd.DataFrame({'value' : np.arange(100), 'group' : np.random.choice(['A', 'B', 'C', 'D'], size=100)})\n",
    "print(data.head())"
   ],
   "id": "67dc3d80528df996",
   "outputs": [
    {
     "name": "stdout",
     "output_type": "stream",
     "text": [
      "   value group\n",
      "0      0     A\n",
      "1      1     C\n",
      "2      2     C\n",
      "3      3     D\n",
      "4      4     D\n"
     ]
    }
   ],
   "execution_count": 2
  },
  {
   "metadata": {
    "ExecuteTime": {
     "end_time": "2025-01-23T17:07:07.199764Z",
     "start_time": "2025-01-23T17:07:07.195415Z"
    }
   },
   "cell_type": "code",
   "source": [
    "## Простая случайная выборка (Simple random sample)\n",
    "simple_random_sample = np.random.choice(data['value'], 10)\n",
    "print(simple_random_sample)"
   ],
   "id": "ef30fc44eaf5b6e6",
   "outputs": [
    {
     "name": "stdout",
     "output_type": "stream",
     "text": [
      "[29 65 24 13 36 80 16 14  0 19]\n"
     ]
    }
   ],
   "execution_count": 22
  },
  {
   "metadata": {
    "ExecuteTime": {
     "end_time": "2025-01-23T17:12:34.841973Z",
     "start_time": "2025-01-23T17:12:34.835457Z"
    }
   },
   "cell_type": "code",
   "source": [
    "## Стратифицированная выборка (Stratified sample)\n",
    "# Например, выбрать 2 элемента из каждой группы\n",
    "stratified_sample = data.groupby('group', group_keys=False).apply(lambda x: x.sample(2), include_groups=False)\n",
    "print(stratified_sample['value'].values)"
   ],
   "id": "2536192377d55808",
   "outputs": [
    {
     "name": "stdout",
     "output_type": "stream",
     "text": [
      "[14 78 17 70 39 13 63 98]\n"
     ]
    }
   ],
   "execution_count": 45
  },
  {
   "metadata": {
    "ExecuteTime": {
     "end_time": "2025-01-23T17:13:06.494871Z",
     "start_time": "2025-01-23T17:13:06.490163Z"
    }
   },
   "cell_type": "code",
   "source": [
    "## Групповая выборка (Cluster sample)\n",
    "# Например, выбрать все элементы случайной группы\n",
    "cluster = np.random.choice(data['group'].unique())[0]\n",
    "cluster_sample = data[data['group'] == cluster]\n",
    "print(cluster_sample['value'].values)\n"
   ],
   "id": "1b25ed700e05e7cb",
   "outputs": [
    {
     "name": "stdout",
     "output_type": "stream",
     "text": [
      "[11 15 17 19 21 24 28 31 32 36 43 47 49 51 57 69 70 72 74 86 89 93]\n"
     ]
    }
   ],
   "execution_count": 46
  },
  {
   "metadata": {
    "ExecuteTime": {
     "end_time": "2025-01-23T17:48:00.175329Z",
     "start_time": "2025-01-23T17:48:00.170533Z"
    }
   },
   "cell_type": "code",
   "source": [
    "# Меры центральной тенденции — статистические показатели, которые описывают центр или \"среднюю\" величину распределения данных.\n",
    "\n",
    "data = pd.Series([1, 2, 2, 3, 3, 10])\n",
    "\n",
    "# Мода - значение, которое встречается в наборе данных наибольшее количество раз:\n",
    "print(f'Moda: {data.mode().tolist()}')\n",
    "\n",
    "# Медиана — значение, которое делит данные пополам:\n",
    "print(f'Median: {data.median()}')\n",
    "\n",
    "# Среднее — сумма всех значений, разделённая на количество элементов:\n",
    "print(f'Mean: {data.mean()}')"
   ],
   "id": "df724cac90da5da6",
   "outputs": [
    {
     "name": "stdout",
     "output_type": "stream",
     "text": [
      "Moda: [2, 3]\n",
      "Median: 2.5\n",
      "Mean: 3.5\n"
     ]
    }
   ],
   "execution_count": 95
  },
  {
   "metadata": {
    "ExecuteTime": {
     "end_time": "2025-01-23T17:50:05.858908Z",
     "start_time": "2025-01-23T17:50:05.853407Z"
    }
   },
   "cell_type": "code",
   "source": [
    "# Меры изменчивости — статистические показатели, которые описывают степень разброса или вариативности данных.\n",
    "\n",
    "# Размах — разница между максимальным и минимальным значением в наборе данных:\n",
    "print(f'Range: {data.max() - data.min()}')\n",
    "\n",
    "# Дисперсия показывает, насколько сильно отклоняются значения от среднего: (дисперсия вычисляется как среднее значение квадратов отклонений данных от их среднего, с учётом корректировки на количество элементов (вычитание 1 из общего числа элементов)\n",
    "print(f'Variance: {data.var()}')\n",
    "\n",
    "# Стандартное отклонение — корень из дисперсии. (data.var() ** 0.5) Оно выражает разброс данных в тех же единицах, что и сами данные.\n",
    "# (Средняя величина отклонений)\n",
    "print(f'Standard Deviation: {data.std()}')\n",
    "\n",
    "# Коэффициент вариации — это отношение стандартного отклонения к среднему значению. Он показывает относительную изменчивость данных (насколько сильно изменяются данные относительно их среднего значения)\n",
    "# Меньший коэффициент вариации указывает на более стабильные данные.\n",
    "print(f'Coefficient of Variation: {data.std() / data.mean() * 100}')"
   ],
   "id": "714a0fc56c74a3b3",
   "outputs": [
    {
     "name": "stdout",
     "output_type": "stream",
     "text": [
      "Range: 9\n",
      "Variance: 10.7\n",
      "Standard Deviation: 3.271085446759225\n",
      "Coefficient of Variation: 93.45958419312072\n"
     ]
    }
   ],
   "execution_count": 96
  }
 ],
 "metadata": {
  "kernelspec": {
   "display_name": "Python 3",
   "language": "python",
   "name": "python3"
  },
  "language_info": {
   "codemirror_mode": {
    "name": "ipython",
    "version": 2
   },
   "file_extension": ".py",
   "mimetype": "text/x-python",
   "name": "python",
   "nbconvert_exporter": "python",
   "pygments_lexer": "ipython2",
   "version": "2.7.6"
  }
 },
 "nbformat": 4,
 "nbformat_minor": 5
}
